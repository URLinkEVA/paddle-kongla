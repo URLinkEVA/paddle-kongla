{
 "cells": [
  {
   "cell_type": "markdown",
   "metadata": {
    "collapsed": false
   },
   "source": [
    "# 我在AI Studio学编程（二）——Java篇"
   ]
  },
  {
   "cell_type": "markdown",
   "metadata": {
    "collapsed": false
   },
   "source": [
    "### 用AI Studio编译并运行Java"
   ]
  },
  {
   "cell_type": "markdown",
   "metadata": {
    "collapsed": false
   },
   "source": [
    "#### 首先，输入\n",
    "\n",
    "```\n",
    "$ cat /proc/version\n",
    "```\n",
    "#### 查看aistudio的Linux版本，然后选取对应的Java JDK进行下载，安装\n",
    "\n"
   ]
  },
  {
   "cell_type": "markdown",
   "metadata": {
    "collapsed": false
   },
   "source": [
    "#### 然后解压数据集,咳咳，不对劲儿，说错了，（为了方便大家使用，我把JDK已经上传到数据集里了，希望官方不要封我号）"
   ]
  },
  {
   "cell_type": "code",
   "execution_count": 1,
   "metadata": {
    "collapsed": false
   },
   "outputs": [
    {
     "name": "stdout",
     "output_type": "stream",
     "text": [
      "jdk1.8.0_281/jmc.txt\r"
     ]
    }
   ],
   "source": [
    "!tar -zxvf /home/aistudio/data/data69316/jdk-8u281-linux-x64.tar.gz"
   ]
  },
  {
   "cell_type": "markdown",
   "metadata": {
    "collapsed": false
   },
   "source": [
    "#### 接着就是用vim或者直接在左侧新建一个hello.java文件(可以直接在左打开文件进行代码编辑)\n",
    "```\n",
    "$ vim hello.java\n",
    "```\n",
    "![](https://ai-studio-static-online.cdn.bcebos.com/b83c1cb9cde04134bb52751847152d2804a49ca93105401582d6776c6966ac42)\n",
    "![](https://ai-studio-static-online.cdn.bcebos.com/6b5229a6a7ae48728cb99c4092a0fbbebe57df3662b342c8909660742547cea4)\n"
   ]
  },
  {
   "cell_type": "markdown",
   "metadata": {
    "collapsed": false
   },
   "source": [
    "## 编译Java代码(如果终端运行，把!去掉即可"
   ]
  },
  {
   "cell_type": "code",
   "execution_count": 2,
   "metadata": {
    "collapsed": false
   },
   "outputs": [
    {
     "name": "stdout",
     "output_type": "stream",
     "text": [
      "MainActivity.java:1: error: cannot find symbol\n",
      "public class MainActivity extends AppCompatActivity implements View.OnClickListener{\n",
      "                                  ^\n",
      "  symbol: class AppCompatActivity\n",
      "MainActivity.java:1: error: package View does not exist\n",
      "public class MainActivity extends AppCompatActivity implements View.OnClickListener{\n",
      "                                                                   ^\n",
      "MainActivity.java:4: error: cannot find symbol\n",
      "    private TextView txt_topbar;\n",
      "            ^\n",
      "  symbol:   class TextView\n",
      "  location: class MainActivity\n",
      "MainActivity.java:5: error: cannot find symbol\n",
      "    private TextView txt_channel;\n",
      "            ^\n",
      "  symbol:   class TextView\n",
      "  location: class MainActivity\n",
      "MainActivity.java:6: error: cannot find symbol\n",
      "    private TextView txt_message;\n",
      "            ^\n",
      "  symbol:   class TextView\n",
      "  location: class MainActivity\n",
      "MainActivity.java:7: error: cannot find symbol\n",
      "    private TextView txt_better;\n",
      "            ^\n",
      "  symbol:   class TextView\n",
      "  location: class MainActivity\n",
      "MainActivity.java:8: error: cannot find symbol\n",
      "    private TextView txt_setting;\n",
      "            ^\n",
      "  symbol:   class TextView\n",
      "  location: class MainActivity\n",
      "MainActivity.java:9: error: cannot find symbol\n",
      "    private FrameLayout ly_content;\n",
      "            ^\n",
      "  symbol:   class FrameLayout\n",
      "  location: class MainActivity\n",
      "MainActivity.java:12: error: cannot find symbol\n",
      "    private MyFragment fg1,fg2,fg3,fg4;\n",
      "            ^\n",
      "  symbol:   class MyFragment\n",
      "  location: class MainActivity\n",
      "MainActivity.java:13: error: cannot find symbol\n",
      "    private FragmentManager fManager;\n",
      "            ^\n",
      "  symbol:   class FragmentManager\n",
      "  location: class MainActivity\n",
      "MainActivity.java:16: error: cannot find symbol\n",
      "    protected void onCreate(Bundle savedInstanceState) {\n",
      "                            ^\n",
      "  symbol:   class Bundle\n",
      "  location: class MainActivity\n",
      "MainActivity.java:49: error: cannot find symbol\n",
      "    private void hideAllFragment(FragmentTransaction fragmentTransaction){\n",
      "                                 ^\n",
      "  symbol:   class FragmentTransaction\n",
      "  location: class MainActivity\n",
      "MainActivity.java:58: error: cannot find symbol\n",
      "    public void onClick(View v) {\n",
      "                        ^\n",
      "  symbol:   class View\n",
      "  location: class MainActivity\n",
      "MainActivity.java:15: error: method does not override or implement a method from a supertype\n",
      "    @Override\n",
      "    ^\n",
      "MainActivity.java:17: error: cannot find symbol\n",
      "        super.onCreate(savedInstanceState);\n",
      "        ^\n",
      "  symbol:   variable super\n",
      "  location: class MainActivity\n",
      "MainActivity.java:18: error: cannot find symbol\n",
      "        requestWindowFeature(Window.FEATURE_NO_TITLE);\n",
      "                             ^\n",
      "  symbol:   variable Window\n",
      "  location: class MainActivity\n",
      "MainActivity.java:19: error: package R does not exist\n",
      "        setContentView(R.layout.activity_main);\n",
      "                        ^\n",
      "MainActivity.java:20: error: cannot find symbol\n",
      "        fManager = getFragmentManager();\n",
      "                   ^\n",
      "  symbol:   method getFragmentManager()\n",
      "  location: class MainActivity\n",
      "MainActivity.java:27: error: cannot find symbol\n",
      "        txt_topbar = (TextView) findViewById(R.id.txt_topbar);\n",
      "                      ^\n",
      "  symbol:   class TextView\n",
      "  location: class MainActivity\n",
      "MainActivity.java:27: error: package R does not exist\n",
      "        txt_topbar = (TextView) findViewById(R.id.txt_topbar);\n",
      "                                              ^\n",
      "MainActivity.java:28: error: cannot find symbol\n",
      "        txt_channel = (TextView) findViewById(R.id.txt_channel);\n",
      "                       ^\n",
      "  symbol:   class TextView\n",
      "  location: class MainActivity\n",
      "MainActivity.java:28: error: package R does not exist\n",
      "        txt_channel = (TextView) findViewById(R.id.txt_channel);\n",
      "                                               ^\n",
      "MainActivity.java:29: error: cannot find symbol\n",
      "        txt_message = (TextView) findViewById(R.id.txt_message);\n",
      "                       ^\n",
      "  symbol:   class TextView\n",
      "  location: class MainActivity\n",
      "MainActivity.java:29: error: package R does not exist\n",
      "        txt_message = (TextView) findViewById(R.id.txt_message);\n",
      "                                               ^\n",
      "MainActivity.java:30: error: cannot find symbol\n",
      "        txt_better = (TextView) findViewById(R.id.txt_better);\n",
      "                      ^\n",
      "  symbol:   class TextView\n",
      "  location: class MainActivity\n",
      "MainActivity.java:30: error: package R does not exist\n",
      "        txt_better = (TextView) findViewById(R.id.txt_better);\n",
      "                                              ^\n",
      "MainActivity.java:31: error: cannot find symbol\n",
      "        txt_setting = (TextView) findViewById(R.id.txt_setting);\n",
      "                       ^\n",
      "  symbol:   class TextView\n",
      "  location: class MainActivity\n",
      "MainActivity.java:31: error: package R does not exist\n",
      "        txt_setting = (TextView) findViewById(R.id.txt_setting);\n",
      "                                               ^\n",
      "MainActivity.java:32: error: cannot find symbol\n",
      "        ly_content = (FrameLayout) findViewById(R.id.ly_content);\n",
      "                      ^\n",
      "  symbol:   class FrameLayout\n",
      "  location: class MainActivity\n",
      "MainActivity.java:32: error: package R does not exist\n",
      "        ly_content = (FrameLayout) findViewById(R.id.ly_content);\n",
      "                                                 ^\n",
      "MainActivity.java:57: error: method does not override or implement a method from a supertype\n",
      "    @Override\n",
      "    ^\n",
      "MainActivity.java:59: error: cannot find symbol\n",
      "        FragmentTransaction fTransaction = fManager.beginTransaction();\n",
      "        ^\n",
      "  symbol:   class FragmentTransaction\n",
      "  location: class MainActivity\n",
      "MainActivity.java:62: error: package R does not exist\n",
      "            case R.id.txt_channel:\n",
      "                  ^\n",
      "MainActivity.java:66: error: cannot find symbol\n",
      "                    fg1 = new MyFragment(\"第一个Fragment\");\n",
      "                              ^\n",
      "  symbol:   class MyFragment\n",
      "  location: class MainActivity\n",
      "MainActivity.java:67: error: package R does not exist\n",
      "                    fTransaction.add(R.id.ly_content,fg1);\n",
      "                                      ^\n",
      "MainActivity.java:72: error: package R does not exist\n",
      "            case R.id.txt_message:\n",
      "                  ^\n",
      "MainActivity.java:76: error: cannot find symbol\n",
      "                    fg2 = new MyFragment(\"第二个Fragment\");\n",
      "                              ^\n",
      "  symbol:   class MyFragment\n",
      "  location: class MainActivity\n",
      "MainActivity.java:77: error: package R does not exist\n",
      "                    fTransaction.add(R.id.ly_content,fg2);\n",
      "                                      ^\n",
      "MainActivity.java:82: error: package R does not exist\n",
      "            case R.id.txt_better:\n",
      "                  ^\n",
      "MainActivity.java:86: error: cannot find symbol\n",
      "                    fg3 = new MyFragment(\"第三个Fragment\");\n",
      "                              ^\n",
      "  symbol:   class MyFragment\n",
      "  location: class MainActivity\n",
      "MainActivity.java:87: error: package R does not exist\n",
      "                    fTransaction.add(R.id.ly_content,fg3);\n",
      "                                      ^\n",
      "MainActivity.java:92: error: package R does not exist\n",
      "            case R.id.txt_setting:\n",
      "                  ^\n",
      "MainActivity.java:96: error: cannot find symbol\n",
      "                    fg4 = new MyFragment(\"第四个Fragment\");\n",
      "                              ^\n",
      "  symbol:   class MyFragment\n",
      "  location: class MainActivity\n",
      "MainActivity.java:97: error: package R does not exist\n",
      "                    fTransaction.add(R.id.ly_content,fg4);\n",
      "                                      ^\n",
      "44 errors\n"
     ]
    }
   ],
   "source": [
    "!jdk1.8.0_281/bin/javac MainActivity.java"
   ]
  },
  {
   "cell_type": "markdown",
   "metadata": {
    "collapsed": false
   },
   "source": [
    "## 运行编译好的hello.class文件（终端运行去掉感叹号即可）（前面说过，Linux运行文件不用带扩展）"
   ]
  },
  {
   "cell_type": "code",
   "execution_count": 6,
   "metadata": {
    "collapsed": false
   },
   "outputs": [
    {
     "name": "stdout",
     "output_type": "stream",
     "text": [
      "好家伙，AI Studio居然可以编译Java了！\r\n"
     ]
    }
   ],
   "source": [
    "!java hello"
   ]
  }
 ],
 "metadata": {
  "kernelspec": {
   "display_name": "PaddlePaddle 2.0.0b0 (Python 3.5)",
   "language": "python",
   "name": "py35-paddle1.2.0"
  },
  "language_info": {
   "codemirror_mode": {
    "name": "ipython",
    "version": 3
   },
   "file_extension": ".py",
   "mimetype": "text/x-python",
   "name": "python",
   "nbconvert_exporter": "python",
   "pygments_lexer": "ipython3",
   "version": "3.7.4"
  }
 },
 "nbformat": 4,
 "nbformat_minor": 1
}
