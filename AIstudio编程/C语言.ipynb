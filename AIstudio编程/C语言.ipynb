{
 "cells": [
  {
   "cell_type": "markdown",
   "metadata": {
    "collapsed": false
   },
   "source": [
    "#  我在AI studio学编程（一）——C语言篇"
   ]
  },
  {
   "cell_type": "markdown",
   "metadata": {
    "collapsed": false
   },
   "source": [
    "## C语言程序的执行\n",
    "\n"
   ]
  },
  {
   "cell_type": "markdown",
   "metadata": {
    "collapsed": false
   },
   "source": [
    "## 导语\n",
    ">本文将讲述怎样在AI Studio在线平台下进行C语言的编写，编译和执行程序。因为这个平台是基于Linux操作系统，当你身边没有Linux操作系统的计算机时，可以打开这个平台进行学习或者进行项目编写。我们使用Linux终端并解释你需要键入的命令。为什么要学习怎样使用终端呢？首先，此终端对于使用计算机工作而言是一个灵活且方便的界面。意识到这一点可能需要一些经验的积累，但是学习怎样使用此终端将会提高你的生产力。其次，许多云计算或者web服务提供终端访问。这是提供计算资源的一个很自然的方法。尤其是当涉及在多台计算机上工作的时候（像在数据中心一样）。当仅在一台计算机上工作的时候，图形用户界面(GUI)十分优秀。然而当面对多台计算机的时候，GUI就可能造成困扰。同时，使用终端可以帮助你理解Linux系统是如何工作的。在熟悉了终端指令之后，你将会理解集成开发环境(IDE)和它可以为你做些什么。\n"
   ]
  },
  {
   "cell_type": "markdown",
   "metadata": {
    "collapsed": false
   },
   "source": [
    "## 我们像平常一样使用AI studio一样新建项目：\n",
    "#### 1.点击新建项目\n",
    "\n",
    "<!DOCTYPE html>\n",
    "<html lang=\"en\">\n",
    "<head>\n",
    "    <meta charset=\"UTF-8\">\n",
    "    <title>Title</title>\n",
    "</head>\n",
    "<body>\n",
    "<img src=\"https://ai-studio-static-online.cdn.bcebos.com/3813f75e77b049c28f2c4a01fed99c378f0a2b1376154b3292849f552872661c\" width=\"700\" height=\"500\">\n",
    "</body>\n",
    "</html>\n",
    "\n",
    "\n",
    "\n",
    "####  2.默认下一步就行\n",
    "\n",
    "\n",
    "<!DOCTYPE html>\n",
    "<html lang=\"en\">\n",
    "<head>\n",
    "    <meta charset=\"UTF-8\">\n",
    "    <title>Title</title>\n",
    "</head>\n",
    "<body>\n",
    "<img src=\"https://ai-studio-static-online.cdn.bcebos.com/62c6f1d2a894445c9cff2d1da28324333928a08065494a2790115cdd9fb91e13\" width=\"700\" height=\"500\">\n",
    "</body>\n",
    "</html>\n",
    "\n",
    "\n",
    "\n",
    "<!DOCTYPE html>\n",
    "<html lang=\"en\">\n",
    "<head>\n",
    "    <meta charset=\"UTF-8\">\n",
    "    <title>Title</title>\n",
    "</head>\n",
    "<body>\n",
    "<img src=\"https://ai-studio-static-online.cdn.bcebos.com/b11b4ec71acd4153a2633de2eabde8d0df09d6717b1e4312915dc0e0d3ce8e06\" width=\"700\" height=\"500\">\n",
    "</body>\n",
    "</html>\n",
    "\n",
    "\n",
    "#### 3.自行取一个名字\n",
    "<!DOCTYPE html>\n",
    "<html lang=\"en\">\n",
    "<head>\n",
    "    <meta charset=\"UTF-8\">\n",
    "    <title>Title</title>\n",
    "</head>\n",
    "<body>\n",
    "<img src=\"https://ai-studio-static-online.cdn.bcebos.com/91e7cbbeefa945999de108072456f42427ac0d43dee8401886b0e4a56ea62118\" width=\"700\" height=\"500\">\n",
    "</body>\n",
    "</html>\n",
    "\n",
    ">\n",
    ">\n",
    ">\n",
    ">\n",
    " #### 4.建好以后点击左上角切换成终端\n",
    "\n",
    "![](https://ai-studio-static-online.cdn.bcebos.com/c709da99e3044c26a442e549f386c2d3118a814be393426db1e1bce6900a50ed)\n",
    ">\n",
    ">\n",
    ">\n",
    ">\n",
    " #### 注：如果不小心关闭了终端，点击左边任务栏的环境，新建终端即可，最多只能同时建三个。\n",
    "![](https://ai-studio-static-online.cdn.bcebos.com/555e66f5c6364e43abcaf74321170148a16a71681b3e430c8c4fadb6eedac1eb)\n",
    "\n",
    "\n"
   ]
  },
  {
   "cell_type": "markdown",
   "metadata": {
    "collapsed": false
   },
   "source": [
    "#### 5.好了，可以愉快的开始编程了"
   ]
  },
  {
   "cell_type": "markdown",
   "metadata": {
    "collapsed": false
   },
   "source": [
    "基本命令：\n",
    "```\n",
    "$ cd    //回到默认根目录\n",
    "$ pwd\t//查看当前路径\n",
    "$ mkdir cprogram\t//新建文件夹\n",
    "$ cd cprogram\t\t//打开文件夹\n",
    "\n",
    "```"
   ]
  },
  {
   "cell_type": "markdown",
   "metadata": {
    "collapsed": false
   },
   "source": [
    "#### 开始编写第一个程序：\n",
    "```\n",
    "$ vim prog1.c      //使用自带的vim编辑器或者emacs编辑器\n",
    "```\n",
    "#### 进入到编辑器里面，按一下字母“S\",看到左下角”INSERT“，就可以编辑程序了。\n",
    "![](https://ai-studio-static-online.cdn.bcebos.com/ab429ced64fc4723a1f2e75ff55004fea15b445005804c8f9d6de02fff7b0a64)\n"
   ]
  },
  {
   "cell_type": "markdown",
   "metadata": {
    "collapsed": false
   },
   "source": [
    "### 编辑好程序以后，通过按键盘“ESC\"退出编辑\n",
    "#### 接着键入命令\":wq\",回车保存并退出编辑器（下次进入该文件还是通过“vim prog1.c”命令 \n",
    "![](https://ai-studio-static-online.cdn.bcebos.com/b3c4f4ce624546048f230b6ca45df2ea31be83ca535d438eb2a0281d21454974)\n"
   ]
  },
  {
   "cell_type": "markdown",
   "metadata": {
    "collapsed": false
   },
   "source": [
    "## 程序编译\n",
    "> #### 通过vim输入进去的是一个\"C源文件\"。它大致和英语类似，由拉丁字字母构成。然而，由于C语言是编译型语言，因为计算机不理解这种格式，“源文件”需要转换为一种叫作可执行文件的计算机可读格式。编译器是这种转换的必备工具，gcc则是Linux中一种很受欢迎的编译器。（AI studio已经默认装好了gcc）在终端中，输入:\n",
    "```\n",
    "$ gcc prog1.c -o prog\n",
    "```\n",
    "#### 这条指令的意思是：\n",
    ">执行安装在Linux下的gcc指令。\n",
    ">使用prog1.c作为gcc指令的输入。\n",
    ">把输出文件命名为prog(-o指定输出文件的名字)。此输出文件是一个可执行文件，千万别这样输入：\n",
    "```\n",
    "$ gcc prog1.c -o prog1.c\n",
    "```\n",
    "#### 这条指令将擦除文件prog1.c。\n",
    "\n",
    "> #### 最值得关注的是这个程序如何执行，没有GUI的情况下。我们前面已经通过指令生成了一个可执行文件”prog\"。一般来说，Linux下的可执行文件是没有扩展名的，不像在Windows下使用的“.exe”。那么如何去执行此程序呢？输入·如下指令:\n",
    "```\n",
    "$ ./prog\n",
    "```\n",
    "> 这里，prog是这个程序的名字；./的意思是当前目录。为什么要在程序前加上./呢?因为在不同目录下可能存在相同名字的文件。通过添加./，终端会知道你想要的程序在此目录下。举个例子：一些人喜欢给他们的程序命名为“test\"。对于程序而言这是一个不好的名字，因为”test\"也是Linux下内置的一条指令。如果你输入\n",
    "```\n",
    "$ test\n",
    "```\n",
    "> #### 那么那条Linux指令就会运行。如果你输入：\n",
    "```\n",
    "$./test\n",
    "```\n",
    "#### 那么在此目录下的程序就会运行\n",
    "##### 大家可能注意到了，关于argc到底是什么鬼！！！它存储着赋给程序实参的数量。我们通过运行几次此程序来解释吧！\n",
    "./prog\n",
    "#### main: a=5,b=17,argc=1\n",
    ">\n",
    ">\n",
    ">\n",
    "```\n",
    "./prog abc\n",
    "```\n",
    "#### main: a=5,b=17,argc=2\n",
    ">\n",
    ">\n",
    ">\n",
    "```\n",
    "./prog abc 123\n",
    "```\n",
    "#### main: a=5,b=17,argc=3\n",
    ">\n",
    ">\n",
    "```\n",
    "./prog abc 123 C Programs\n",
    "```\n",
    "#### main: a=5,b=17,argc=5\n",
    ">你注意到argc的变化了吗？当程序直接被执行且没有其他内容附在后面时，argc为1。如果在程序后面加一些词，那么argc就会依次增大。这说明当程序在运行的时候实参可以加上去。\n",
    "\n",
    "\n"
   ]
  },
  {
   "cell_type": "markdown",
   "metadata": {
    "collapsed": false
   },
   "source": [
    "### 重定向输出\n",
    "printf函数可能是人们写C程序时最先了解的几个函数之一。著名的“Hello World!\"程序经常被用作给初学者的例子。在这个计算机程序中，文本被打印到终端。然而在一些场合中，从程序重定向信息并将其保存至一个文件中是很有用的。\n",
    "```\n",
    "一个程序打印过快，电脑屏幕不能显示出打印的所有内容。\n",
    "你不想在程序运行时等待着，相反，你想稍后看上面的信息。\n",
    "检查程序是否和之前一样\n",
    "程序在多台计算机上同时运行，同时去看多个显示器上的内容是不可能的。\n",
    "```\n",
    ">\n",
    ">\n",
    "> #### 如果在指令后面加上\">\"和一个文件名字，那么输出就会保存到那个文件中。\n",
    "```\n",
    "$ ./prog abc 123 > output\n",
    "```\n",
    "终端就不会有任何显示，这个时候你刷新一下会发现左边就多了一个文件output\n",
    "\n",
    "\n",
    "<!DOCTYPE html>\n",
    "<html lang=\"en\">\n",
    "<head>\n",
    "    <meta charset=\"UTF-8\">\n",
    "    <title>Title</title>\n",
    "</head>\n",
    "<body>\n",
    "<img src=\"https://ai-studio-static-online.cdn.bcebos.com/546354b602624d26b39ff32a94aa8d73f93c5a7060c04c4d972a9f60c88d643a\" width=\"200\" height=\"200\">\n",
    "</body>\n",
    "</html>\n",
    "\n",
    "\n",
    "\n",
    "<!DOCTYPE html>\n",
    "<html lang=\"en\">\n",
    "<head>\n",
    "    <meta charset=\"UTF-8\">\n",
    "    <title>Title</title>\n",
    "</head>\n",
    "<body>\n",
    "<img src=\"https://ai-studio-static-online.cdn.bcebos.com/9de0a34809b64096a888c87cbfaf536afb34dcb8a9f74557ab1e5489a60ac1be\" width=\"200\" height=\"200\">\n",
    "</body>\n",
    "</html>\n",
    "\n",
    "> #### 当我们打开文件想看一下，发现AI studio打不开，咋办，在生成文件后面加.txt即可\n",
    "```\n",
    " ./prog abc 123 > output.txt\n",
    "```\n",
    "#### 最后再次打开文件，就可以看到输出了。\n",
    "\n",
    "<!DOCTYPE html>\n",
    "<html lang=\"en\">\n",
    "<head>\n",
    "    <meta charset=\"UTF-8\">\n",
    "    <title>Title</title>\n",
    "</head>\n",
    "<body>\n",
    "<img src=\"https://ai-studio-static-online.cdn.bcebos.com/a8fbfe62f45049dbb530eb469eee006de928cbab356d43d9b713a90e3f05127f\" width=\"400\" height=\"200\">\n",
    "</body>\n",
    "</html>\n",
    "\n",
    "\n",
    "\n"
   ]
  },
  {
   "cell_type": "markdown",
   "metadata": {
    "collapsed": false
   },
   "source": [
    "## 写在最后：\n",
    "#### AI studio是一个很优秀的在线平台，无论是写机器学习，深度学习还是基础的Python,Linux编程等，都是很好用的平台，鉴于C语言编程在Windows下和Linux有一些区别，为了让大家更加详细的理解C语言，更让大家明白，AI studio平台不仅可以学Python，更可以学习C语言和Java，所以写了这篇教程，后面有时间还会继续更新相关的一些操作和教程。\n"
   ]
  }
 ],
 "metadata": {
  "kernelspec": {
   "display_name": "PaddlePaddle 2.0.0b0 (Python 3.5)",
   "language": "python",
   "name": "py35-paddle1.2.0"
  },
  "language_info": {
   "codemirror_mode": {
    "name": "ipython",
    "version": 3
   },
   "file_extension": ".py",
   "mimetype": "text/x-python",
   "name": "python",
   "nbconvert_exporter": "python",
   "pygments_lexer": "ipython3",
   "version": "3.7.4"
  }
 },
 "nbformat": 4,
 "nbformat_minor": 1
}
