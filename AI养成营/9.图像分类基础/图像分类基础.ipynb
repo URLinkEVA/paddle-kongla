{
 "cells": [
  {
   "cell_type": "markdown",
   "source": [
    "# **赶 只 鸡** \n",
    "\n",
    "对没有错我们今天的任务就是赶鸡，恩对。\n",
    "\n",
    "无聊的部分开始了，喜欢实战的，可以不要看接下来这部分，认真的部分！\n",
    "\n",
    "本人才疏学浅，如有错误请指出我来修改，感谢大家的理解"
   ],
   "metadata": {
    "collapsed": false
   }
  },
  {
   "cell_type": "markdown",
   "source": [
    "# **概述**\n",
    "\n",
    "在机器学习中，感知机（perceptron）是二分类的线性分类模型，属于监督学习算法。输入为实例的特征向量，输出为实例的类别（取+1和-1）。\n",
    "\n",
    "感知机对应于输入空间中将实例划分为两类的分离超平面。感知机旨在求出该超平面，为求得超平面导入了基于误分类的损失函数，利用梯度下降法 对损失函数进行最优化（最优化）。\n",
    "\n",
    "感知机的学习算法具有简单而易于实现的优点，分为原始形式和对偶形式。感知机预测是用学习得到的感知机模型对新的实例进行预测的，因此属于判别模型。\n",
    "\n",
    "感知机由Rosenblatt于1957年提出的，是神经网络和支持向量机的基础。"
   ],
   "metadata": {
    "collapsed": false
   }
  },
  {
   "cell_type": "markdown",
   "source": [],
   "metadata": {
    "collapsed": false
   }
  },
  {
   "cell_type": "markdown",
   "source": [
    "# **定义**\n",
    "\n",
    "假设输入空间(特征向量)为X=[x1,x2,x3,x......]，输出空间为Y = [1,-1]。\n",
    "\n",
    "输入 = X\n",
    "\n",
    "表示实例的特征向量，对应于输入空间的点；\n",
    "\n",
    "输出 = Y\n",
    "\n",
    "表示示例的类别。\n",
    "\n",
    "由输入空间到输出空间的函数为\n",
    "\n",
    "$f(x)=sign(w^Tx+b)$\n",
    "\n",
    "称为感知机。其中，参数w叫做权值向量(weight)，b称为偏置(bias)。表示$w^T$和x的点积\n",
    "\n",
    "$\\mathbf{w}^{T} \\mathbf{x} =w_1*x_1+w_2*x_2+w_3*x_3+...+w_n*x_n$ \n",
    "，$\\mathbf{w} = [w_1, w_2,...,w_n]^{T}$\n",
    "，$\\mathbf{x} = [x_1, x_2,...,x_n]^{T}$\n",
    "\n",
    "sign为符号函数，即\n",
    "\n",
    "$sign(A)=\\left\\{\\begin{matrix}+1，A \\geq 0\\\\-1，A<0\\end{matrix}\\right.$\n",
    "\n",
    "感知机算法就是要找到一个超平面将我们的数据分为两部分。\n",
    "\n",
    "超平面就是维度比我们当前维度空间小一个维度的空间， 例如：我们当前的维度是二维的空间（由数据维度确定，x有多少列就有多大的维度），那么超平面就是一维\n",
    "的，即一条直线。如下图\n",
    "\n",
    "![](https://ai-studio-static-online.cdn.bcebos.com/823c9c1f75a64906ad4f796549f063a1417360f3e5e44466a3ac4a21f18408b0)\n",
    "\n",
    "# **下面让我们一起动手实现最简单的感知机吧！**"
   ],
   "metadata": {
    "collapsed": false
   }
  },
  {
   "cell_type": "code",
   "execution_count": null,
   "source": [
    "#引入必要的包\r\n",
    "import paddle\r\n",
    "print(\"本教程使用的paddle版本为：\" + paddle.__version__)\r\n",
    "import numpy as np\r\n",
    "import matplotlib.pyplot as plt"
   ],
   "outputs": [
    {
     "output_type": "stream",
     "name": "stdout",
     "text": [
      "本教程使用的paddle版本为：2.0.0\n"
     ]
    },
    {
     "output_type": "stream",
     "name": "stderr",
     "text": [
      "/opt/conda/envs/python35-paddle120-env/lib/python3.7/site-packages/matplotlib/__init__.py:107: DeprecationWarning: Using or importing the ABCs from 'collections' instead of from 'collections.abc' is deprecated, and in 3.8 it will stop working\n",
      "  from collections import MutableMapping\n",
      "/opt/conda/envs/python35-paddle120-env/lib/python3.7/site-packages/matplotlib/rcsetup.py:20: DeprecationWarning: Using or importing the ABCs from 'collections' instead of from 'collections.abc' is deprecated, and in 3.8 it will stop working\n",
      "  from collections import Iterable, Mapping\n",
      "/opt/conda/envs/python35-paddle120-env/lib/python3.7/site-packages/matplotlib/colors.py:53: DeprecationWarning: Using or importing the ABCs from 'collections' instead of from 'collections.abc' is deprecated, and in 3.8 it will stop working\n",
      "  from collections import Sized\n"
     ]
    }
   ],
   "metadata": {
    "collapsed": false
   }
  },
  {
   "cell_type": "code",
   "execution_count": null,
   "source": [
    "np.random.seed(0)\r\n",
    "num=100\r\n",
    "\r\n",
    "#生成数据集x1,x2,y0/1\r\n",
    "#随机生成100个x1\r\n",
    "x1=np.random.normal(6,1,size=(num))\r\n",
    "#随机生成100个x2\r\n",
    "x2=np.random.normal(3,1,size=(num))\r\n",
    "#生成100个y（全身不都是1哦）\r\n",
    "y=np.ones(num)\r\n",
    "#将生成好的点放入到一个分类中\r\n",
    "class1=np.array([x1,x2,y])\r\n",
    "class1.shape\r\n",
    "#接下来生成第二类点，原理跟第一类一样\r\n",
    "x1=np.random.normal(3,1,size=(num))\r\n",
    "x2=np.random.normal(6,1,size=(num))\r\n",
    "y=np.ones(num)*(-1)\r\n",
    "class2=np.array([x1,x2,y])"
   ],
   "outputs": [],
   "metadata": {
    "collapsed": false
   }
  },
  {
   "cell_type": "code",
   "execution_count": null,
   "source": [
    "#看一下生成点的样子\r\n",
    "print(class1.shape)\r\n",
    "print(class2.shape)"
   ],
   "outputs": [
    {
     "output_type": "stream",
     "name": "stdout",
     "text": [
      "(3, 100)\n",
      "(3, 100)\n"
     ]
    }
   ],
   "metadata": {
    "collapsed": false
   }
  },
  {
   "cell_type": "markdown",
   "source": [
    "# 这个形状不便于我们操作数据，我们来转置一下"
   ],
   "metadata": {
    "collapsed": false
   }
  },
  {
   "cell_type": "code",
   "execution_count": null,
   "source": [
    "class1=class1.T\r\n",
    "class2=class2.T\r\n",
    "#再看一下生成点的样子\r\n",
    "print(class1.shape)\r\n",
    "print(class2.shape)"
   ],
   "outputs": [
    {
     "output_type": "stream",
     "name": "stdout",
     "text": [
      "(100, 3)\n",
      "(100, 3)\n"
     ]
    }
   ],
   "metadata": {
    "collapsed": false
   }
  },
  {
   "cell_type": "markdown",
   "source": [
    "# 光看数据，也不知道是啥啊。来画图看一下"
   ],
   "metadata": {
    "collapsed": false
   }
  },
  {
   "cell_type": "code",
   "execution_count": null,
   "source": [
    "plt.scatter(class1[:,0],class1[:,1])\r\n",
    "plt.scatter(class2[:,0],class2[:,1],marker='*')"
   ],
   "outputs": [
    {
     "output_type": "stream",
     "name": "stderr",
     "text": [
      "/opt/conda/envs/python35-paddle120-env/lib/python3.7/site-packages/matplotlib/cbook/__init__.py:2349: DeprecationWarning: Using or importing the ABCs from 'collections' instead of from 'collections.abc' is deprecated, and in 3.8 it will stop working\n",
      "  if isinstance(obj, collections.Iterator):\n",
      "/opt/conda/envs/python35-paddle120-env/lib/python3.7/site-packages/matplotlib/cbook/__init__.py:2366: DeprecationWarning: Using or importing the ABCs from 'collections' instead of from 'collections.abc' is deprecated, and in 3.8 it will stop working\n",
      "  return list(data) if isinstance(data, collections.MappingView) else data\n"
     ]
    },
    {
     "output_type": "execute_result",
     "data": {
      "text/plain": [
       "<matplotlib.collections.PathCollection at 0x7faa40a5ef90>"
      ]
     },
     "metadata": {},
     "execution_count": null
    },
    {
     "output_type": "display_data",
     "data": {
      "image/png": "[encoded data removed]",
      "text/plain": [
       "<Figure size 432x288 with 1 Axes>"
      ]
     },
     "metadata": {}
    }
   ],
   "metadata": {
    "collapsed": false
   }
  },
  {
   "cell_type": "markdown",
   "source": [
    "# 这下就清楚了，接下来就要画线了"
   ],
   "metadata": {
    "collapsed": false
   }
  },
  {
   "cell_type": "code",
   "execution_count": null,
   "source": [
    "#将两类数据都放到一个变量里面\r\n",
    "all_data = np.concatenate((class1,class2))\r\n",
    "print(all_data)\r\n"
   ],
   "outputs": [
    {
     "output_type": "stream",
     "name": "stdout",
     "text": [
      "[[ 7.76405235  4.8831507   1.        ]\n",
      " [ 6.40015721  1.65224094  1.        ]\n",
      " [ 6.97873798  1.729515    1.        ]\n",
      " [ 8.2408932   3.96939671  1.        ]\n",
      " [ 7.86755799  1.82687659  1.        ]\n",
      " [ 5.02272212  4.94362119  1.        ]\n",
      " [ 6.95008842  2.58638102  1.        ]\n",
      " [ 5.84864279  2.25254519  1.        ]\n",
      " [ 5.89678115  4.92294203  1.        ]\n",
      " [ 6.4105985   4.48051479  1.        ]\n",
      " [ 6.14404357  4.86755896  1.        ]\n",
      " [ 7.45427351  3.90604466  1.        ]\n",
      " [ 6.76103773  2.13877431  1.        ]\n",
      " [ 6.12167502  4.91006495  1.        ]\n",
      " [ 6.44386323  2.73199663  1.        ]\n",
      " [ 6.33367433  3.8024564   1.        ]\n",
      " [ 7.49407907  3.94725197  1.        ]\n",
      " [ 5.79484174  2.84498991  1.        ]\n",
      " [ 6.3130677   3.61407937  1.        ]\n",
      " [ 5.14590426  3.92220667  1.        ]\n",
      " [ 3.44701018  3.37642553  1.        ]\n",
      " [ 6.6536186   1.90059921  1.        ]\n",
      " [ 6.8644362   3.29823817  1.        ]\n",
      " [ 5.25783498  4.3263859   1.        ]\n",
      " [ 8.26975462  2.30543214  1.        ]\n",
      " [ 4.54563433  2.85036546  1.        ]\n",
      " [ 6.04575852  2.56484645  1.        ]\n",
      " [ 5.81281615  4.84926373  1.        ]\n",
      " [ 7.53277921  3.67229476  1.        ]\n",
      " [ 7.46935877  3.40746184  1.        ]\n",
      " [ 6.15494743  2.23008393  1.        ]\n",
      " [ 6.37816252  3.53924919  1.        ]\n",
      " [ 5.11221425  2.32566734  1.        ]\n",
      " [ 4.01920353  3.03183056  1.        ]\n",
      " [ 5.65208785  2.36415392  1.        ]\n",
      " [ 6.15634897  3.67643329  1.        ]\n",
      " [ 7.23029068  3.57659082  1.        ]\n",
      " [ 7.20237985  2.79170124  1.        ]\n",
      " [ 5.61267318  3.39600671  1.        ]\n",
      " [ 5.69769725  1.90693849  1.        ]\n",
      " [ 4.95144703  1.50874241  1.        ]\n",
      " [ 4.57998206  3.4393917   1.        ]\n",
      " [ 4.29372981  3.1666735   1.        ]\n",
      " [ 7.9507754   3.63503144  1.        ]\n",
      " [ 5.49034782  5.38314477  1.        ]\n",
      " [ 5.5619257   3.94447949  1.        ]\n",
      " [ 4.74720464  2.08717777  1.        ]\n",
      " [ 6.77749036  4.11701629  1.        ]\n",
      " [ 4.38610215  1.68409259  1.        ]\n",
      " [ 5.78725972  2.5384154   1.        ]\n",
      " [ 5.10453344  2.93175839  1.        ]\n",
      " [ 6.3869025   4.71334272  1.        ]\n",
      " [ 5.48919486  2.25524518  1.        ]\n",
      " [ 4.81936782  2.17356146  1.        ]\n",
      " [ 5.97181777  2.90154748  1.        ]\n",
      " [ 6.42833187  2.33652171  1.        ]\n",
      " [ 6.06651722  4.12663592  1.        ]\n",
      " [ 6.3024719   1.92006849  1.        ]\n",
      " [ 5.36567791  1.85253135  1.        ]\n",
      " [ 5.63725883  2.56217996  1.        ]\n",
      " [ 5.32753955  2.50196755  1.        ]\n",
      " [ 5.64044684  4.92953205  1.        ]\n",
      " [ 5.18685372  3.94942081  1.        ]\n",
      " [ 4.2737174   3.08755124  1.        ]\n",
      " [ 6.17742614  1.77456448  1.        ]\n",
      " [ 5.59821906  3.84436298  1.        ]\n",
      " [ 4.36980165  1.99978465  1.        ]\n",
      " [ 6.46278226  1.4552289   1.        ]\n",
      " [ 5.09270164  4.18802979  1.        ]\n",
      " [ 6.0519454   3.31694261  1.        ]\n",
      " [ 6.72909056  3.92085882  1.        ]\n",
      " [ 6.12898291  3.31872765  1.        ]\n",
      " [ 7.13940068  3.85683061  1.        ]\n",
      " [ 4.76517418  2.34897441  1.        ]\n",
      " [ 6.40234164  1.96575716  1.        ]\n",
      " [ 5.31518991  3.68159452  1.        ]\n",
      " [ 5.12920285  2.19659034  1.        ]\n",
      " [ 5.42115034  2.31045022  1.        ]\n",
      " [ 5.68844747  2.5444675   1.        ]\n",
      " [ 6.05616534  3.01747916  1.        ]\n",
      " [ 4.83485016  2.64600609  1.        ]\n",
      " [ 6.90082649  1.62504871  1.        ]\n",
      " [ 6.46566244  2.3563816   1.        ]\n",
      " [ 4.46375631  0.77659685  1.        ]\n",
      " [ 7.48825219  3.62523145  1.        ]\n",
      " [ 7.89588918  1.39794234  1.        ]\n",
      " [ 7.17877957  1.89561666  1.        ]\n",
      " [ 5.82007516  3.05216508  1.        ]\n",
      " [ 4.92924738  2.260437    1.        ]\n",
      " [ 7.05445173  4.5430146   1.        ]\n",
      " [ 5.59682305  1.70714309  1.        ]\n",
      " [ 7.22244507  3.26705087  1.        ]\n",
      " [ 6.20827498  2.96071718  1.        ]\n",
      " [ 6.97663904  1.8319065   1.        ]\n",
      " [ 6.3563664   3.52327666  1.        ]\n",
      " [ 6.70657317  2.82845367  1.        ]\n",
      " [ 6.01050002  3.77179055  1.        ]\n",
      " [ 7.78587049  3.82350415  1.        ]\n",
      " [ 6.12691209  5.16323595  1.        ]\n",
      " [ 6.40198936  4.33652795  1.        ]\n",
      " [ 2.63081816  4.69347315 -1.        ]\n",
      " [ 2.76062082  7.65813068 -1.        ]\n",
      " [ 4.0996596   5.88183595 -1.        ]\n",
      " [ 3.65526373  5.3198218  -1.        ]\n",
      " [ 3.64013153  6.66638308 -1.        ]\n",
      " [ 1.38304396  5.53928021 -1.        ]\n",
      " [ 2.97567388  4.66574153 -1.        ]\n",
      " [ 2.26196909  4.65328249 -1.        ]\n",
      " [ 3.2799246   6.69377315 -1.        ]\n",
      " [ 2.90184961  5.84042656 -1.        ]\n",
      " [ 3.91017891  5.86629844 -1.        ]\n",
      " [ 3.31721822  7.07774381 -1.        ]\n",
      " [ 3.78632796  4.87317419 -1.        ]\n",
      " [ 2.5335809   5.26932225 -1.        ]\n",
      " [ 2.05555374  5.61512019 -1.        ]\n",
      " [ 2.58995031  6.09435159 -1.        ]\n",
      " [ 2.98297959  5.95782855 -1.        ]\n",
      " [ 3.37915174  5.71311281 -1.        ]\n",
      " [ 5.25930895  5.9383736  -1.        ]\n",
      " [ 2.95774285  5.89269472 -1.        ]\n",
      " [ 2.044055    5.28039561 -1.        ]\n",
      " [ 2.65401822  5.18700701 -1.        ]\n",
      " [ 2.53640403  6.27451636 -1.        ]\n",
      " [ 3.48148147  5.10908492 -1.        ]\n",
      " [ 1.45920299  4.84264474 -1.        ]\n",
      " [ 3.06326199  5.68770775 -1.        ]\n",
      " [ 3.15650654  5.84233298 -1.        ]\n",
      " [ 3.23218104  8.2567235  -1.        ]\n",
      " [ 2.40268393  5.29529972 -1.        ]\n",
      " [ 2.76207827  6.94326072 -1.        ]\n",
      " [ 1.57593909  6.74718833 -1.        ]\n",
      " [ 2.50668012  4.81105504 -1.        ]\n",
      " [ 2.45713852  6.77325298 -1.        ]\n",
      " [ 3.41605005  4.81611936 -1.        ]\n",
      " [ 1.84381757  3.34082776 -1.        ]\n",
      " [ 3.7811981   6.60631952 -1.        ]\n",
      " [ 4.49448454  4.24410942 -1.        ]\n",
      " [ 0.93001497  6.45093446 -1.        ]\n",
      " [ 3.42625873  5.3159891  -1.        ]\n",
      " [ 3.67690804  7.6595508  -1.        ]\n",
      " [ 2.36256297  7.0685094  -1.        ]\n",
      " [ 2.60272819  5.5466142  -1.        ]\n",
      " [ 2.86711942  5.31216239 -1.        ]\n",
      " [ 2.70220912  4.7859226  -1.        ]\n",
      " [ 2.69098703  5.55907737 -1.        ]\n",
      " [ 1.32399619  5.7196445  -1.        ]\n",
      " [ 4.15233156  5.63530646 -1.        ]\n",
      " [ 4.07961859  6.15670386 -1.        ]\n",
      " [ 2.18663574  6.5785215  -1.        ]\n",
      " [ 1.53357567  6.34965446 -1.        ]\n",
      " [ 3.52106488  5.23585608 -1.        ]\n",
      " [ 2.42421203  4.56220853 -1.        ]\n",
      " [ 3.14195316  7.36453185 -1.        ]\n",
      " [ 2.68067158  5.31055082 -1.        ]\n",
      " [ 3.69153875  5.3477064  -1.        ]\n",
      " [ 3.69474914  5.47881069 -1.        ]\n",
      " [ 2.27440262  4.15693045 -1.        ]\n",
      " [ 1.61663604  5.522026   -1.        ]\n",
      " [ 1.4170616   5.52034419 -1.        ]\n",
      " [ 3.61037938  6.6203583  -1.        ]\n",
      " [ 1.81114074  6.69845715 -1.        ]\n",
      " [ 2.49318365  6.00377089 -1.        ]\n",
      " [ 2.40368596  6.93184837 -1.        ]\n",
      " [ 2.9474327   6.33996498 -1.        ]\n",
      " [ 1.06372019  5.98431789 -1.        ]\n",
      " [ 3.1887786   6.16092817 -1.        ]\n",
      " [ 3.52389102  5.80934651 -1.        ]\n",
      " [ 3.08842209  5.60515049 -1.        ]\n",
      " [ 2.68911383  5.73226646 -1.        ]\n",
      " [ 3.09740017  4.87198867 -1.        ]\n",
      " [ 3.39904635  6.28044171 -1.        ]\n",
      " [ 0.22740724  5.00687639 -1.        ]\n",
      " [ 4.95591231  6.84163126 -1.        ]\n",
      " [ 3.39009332  5.75054142 -1.        ]\n",
      " [ 2.34759142  6.04949498 -1.        ]\n",
      " [ 2.60904662  6.49383678 -1.        ]\n",
      " [ 3.49374178  6.64331447 -1.        ]\n",
      " [ 2.88389606  4.42937659 -1.        ]\n",
      " [ 0.96931553  5.79309632 -1.        ]\n",
      " [ 5.06449286  6.88017891 -1.        ]\n",
      " [ 2.88945934  4.30189418 -1.        ]\n",
      " [ 4.02017271  6.38728048 -1.        ]\n",
      " [ 2.30795015  3.74443577 -1.        ]\n",
      " [ 4.53637705  4.97749316 -1.        ]\n",
      " [ 3.28634369  6.03863055 -1.        ]\n",
      " [ 3.60884383  4.3432849  -1.        ]\n",
      " [ 1.95474663  5.01448926 -1.        ]\n",
      " [ 4.21114529  4.52816499 -1.        ]\n",
      " [ 3.68981816  7.64813493 -1.        ]\n",
      " [ 4.30184623  6.16422776 -1.        ]\n",
      " [ 2.37191244  6.56729028 -1.        ]\n",
      " [ 2.51897288  5.7773249  -1.        ]\n",
      " [ 5.3039167   5.64656825 -1.        ]\n",
      " [ 1.93998418  4.38352581 -1.        ]\n",
      " [ 2.8640503   5.70816264 -1.        ]\n",
      " [ 4.13689136  5.23850779 -1.        ]\n",
      " [ 3.09772497  6.85792392 -1.        ]\n",
      " [ 3.58295368  7.14110187 -1.        ]\n",
      " [ 2.60055097  7.46657872 -1.        ]\n",
      " [ 3.37005589  6.85255194 -1.        ]]\n"
     ]
    }
   ],
   "metadata": {
    "collapsed": false
   }
  },
  {
   "cell_type": "markdown",
   "source": [
    "# 这也太整齐了，不行不行，这对应我们的感知机来说岂不是太简单了。咱得来点~~男的~~（难的）"
   ],
   "metadata": {
    "collapsed": false
   }
  },
  {
   "cell_type": "code",
   "execution_count": null,
   "source": [
    "#将数据打乱\r\n",
    "np.random.shuffle(all_data)\r\n",
    "print(all_data)"
   ],
   "outputs": [
    {
     "output_type": "stream",
     "name": "stdout",
     "text": [
      "[[ 6.76103773  2.13877431  1.        ]\n",
      " [ 2.49318365  6.00377089 -1.        ]\n",
      " [ 7.53277921  3.67229476  1.        ]\n",
      " [ 6.46566244  2.3563816   1.        ]\n",
      " [ 4.92924738  2.260437    1.        ]\n",
      " [ 8.2408932   3.96939671  1.        ]\n",
      " [ 6.6536186   1.90059921  1.        ]\n",
      " [ 3.39009332  5.75054142 -1.        ]\n",
      " [ 5.3039167   5.64656825 -1.        ]\n",
      " [ 6.44386323  2.73199663  1.        ]\n",
      " [ 2.69098703  5.55907737 -1.        ]\n",
      " [ 2.40368596  6.93184837 -1.        ]\n",
      " [ 4.07961859  6.15670386 -1.        ]\n",
      " [ 5.59821906  3.84436298  1.        ]\n",
      " [ 4.15233156  5.63530646 -1.        ]\n",
      " [ 2.37191244  6.56729028 -1.        ]\n",
      " [ 5.49034782  5.38314477  1.        ]\n",
      " [ 2.88389606  4.42937659 -1.        ]\n",
      " [ 5.42115034  2.31045022  1.        ]\n",
      " [ 3.39904635  6.28044171 -1.        ]\n",
      " [ 2.18663574  6.5785215  -1.        ]\n",
      " [ 5.36567791  1.85253135  1.        ]\n",
      " [ 6.42833187  2.33652171  1.        ]\n",
      " [ 2.53640403  6.27451636 -1.        ]\n",
      " [ 2.86711942  5.31216239 -1.        ]\n",
      " [ 4.2737174   3.08755124  1.        ]\n",
      " [ 6.3563664   3.52327666  1.        ]\n",
      " [ 7.78587049  3.82350415  1.        ]\n",
      " [ 6.37816252  3.53924919  1.        ]\n",
      " [ 5.78725972  2.5384154   1.        ]\n",
      " [ 6.72909056  3.92085882  1.        ]\n",
      " [ 7.13940068  3.85683061  1.        ]\n",
      " [ 1.57593909  6.74718833 -1.        ]\n",
      " [ 5.10453344  2.93175839  1.        ]\n",
      " [ 3.64013153  6.66638308 -1.        ]\n",
      " [ 2.60055097  7.46657872 -1.        ]\n",
      " [ 2.76207827  6.94326072 -1.        ]\n",
      " [ 2.60904662  6.49383678 -1.        ]\n",
      " [ 3.58295368  7.14110187 -1.        ]\n",
      " [ 4.54563433  2.85036546  1.        ]\n",
      " [ 6.04575852  2.56484645  1.        ]\n",
      " [ 5.48919486  2.25524518  1.        ]\n",
      " [ 5.5619257   3.94447949  1.        ]\n",
      " [ 2.50668012  4.81105504 -1.        ]\n",
      " [ 1.84381757  3.34082776 -1.        ]\n",
      " [ 3.65526373  5.3198218  -1.        ]\n",
      " [ 3.1887786   6.16092817 -1.        ]\n",
      " [ 2.95774285  5.89269472 -1.        ]\n",
      " [ 5.69769725  1.90693849  1.        ]\n",
      " [ 7.17877957  1.89561666  1.        ]\n",
      " [ 2.26196909  4.65328249 -1.        ]\n",
      " [ 8.26975462  2.30543214  1.        ]\n",
      " [ 3.67690804  7.6595508  -1.        ]\n",
      " [ 4.74720464  2.08717777  1.        ]\n",
      " [ 3.48148147  5.10908492 -1.        ]\n",
      " [ 2.90184961  5.84042656 -1.        ]\n",
      " [ 3.28634369  6.03863055 -1.        ]\n",
      " [ 2.30795015  3.74443577 -1.        ]\n",
      " [ 4.29372981  3.1666735   1.        ]\n",
      " [ 1.45920299  4.84264474 -1.        ]\n",
      " [ 2.60272819  5.5466142  -1.        ]\n",
      " [ 5.06449286  6.88017891 -1.        ]\n",
      " [ 3.37915174  5.71311281 -1.        ]\n",
      " [ 4.36980165  1.99978465  1.        ]\n",
      " [ 3.68981816  7.64813493 -1.        ]\n",
      " [ 4.57998206  3.4393917   1.        ]\n",
      " [ 5.32753955  2.50196755  1.        ]\n",
      " [ 2.40268393  5.29529972 -1.        ]\n",
      " [ 3.44701018  3.37642553  1.        ]\n",
      " [ 2.88945934  4.30189418 -1.        ]\n",
      " [ 4.02017271  6.38728048 -1.        ]\n",
      " [ 3.31721822  7.07774381 -1.        ]\n",
      " [ 2.97567388  4.66574153 -1.        ]\n",
      " [ 3.69153875  5.3477064  -1.        ]\n",
      " [ 3.7811981   6.60631952 -1.        ]\n",
      " [ 7.46935877  3.40746184  1.        ]\n",
      " [ 2.51897288  5.7773249  -1.        ]\n",
      " [ 6.0519454   3.31694261  1.        ]\n",
      " [ 5.89678115  4.92294203  1.        ]\n",
      " [ 5.14590426  3.92220667  1.        ]\n",
      " [ 1.81114074  6.69845715 -1.        ]\n",
      " [ 4.81936782  2.17356146  1.        ]\n",
      " [ 5.09270164  4.18802979  1.        ]\n",
      " [ 4.13689136  5.23850779 -1.        ]\n",
      " [ 3.52106488  5.23585608 -1.        ]\n",
      " [ 1.4170616   5.52034419 -1.        ]\n",
      " [ 6.15634897  3.67643329  1.        ]\n",
      " [ 6.90082649  1.62504871  1.        ]\n",
      " [ 5.97181777  2.90154748  1.        ]\n",
      " [ 5.65208785  2.36415392  1.        ]\n",
      " [ 3.14195316  7.36453185 -1.        ]\n",
      " [ 6.40198936  4.33652795  1.        ]\n",
      " [ 3.91017891  5.86629844 -1.        ]\n",
      " [ 5.82007516  3.05216508  1.        ]\n",
      " [ 7.45427351  3.90604466  1.        ]\n",
      " [ 3.60884383  4.3432849  -1.        ]\n",
      " [ 5.81281615  4.84926373  1.        ]\n",
      " [ 2.45713852  6.77325298 -1.        ]\n",
      " [ 6.15494743  2.23008393  1.        ]\n",
      " [ 6.12691209  5.16323595  1.        ]\n",
      " [ 6.8644362   3.29823817  1.        ]\n",
      " [ 5.84864279  2.25254519  1.        ]\n",
      " [ 7.22244507  3.26705087  1.        ]\n",
      " [ 5.25783498  4.3263859   1.        ]\n",
      " [ 1.06372019  5.98431789 -1.        ]\n",
      " [ 6.12898291  3.31872765  1.        ]\n",
      " [ 2.27440262  4.15693045 -1.        ]\n",
      " [ 4.49448454  4.24410942 -1.        ]\n",
      " [ 7.86755799  1.82687659  1.        ]\n",
      " [ 3.09772497  6.85792392 -1.        ]\n",
      " [ 5.68844747  2.5444675   1.        ]\n",
      " [ 1.95474663  5.01448926 -1.        ]\n",
      " [ 3.09740017  4.87198867 -1.        ]\n",
      " [ 2.9474327   6.33996498 -1.        ]\n",
      " [ 3.2799246   6.69377315 -1.        ]\n",
      " [ 2.34759142  6.04949498 -1.        ]\n",
      " [ 6.3024719   1.92006849  1.        ]\n",
      " [ 5.79484174  2.84498991  1.        ]\n",
      " [ 3.69474914  5.47881069 -1.        ]\n",
      " [ 2.65401822  5.18700701 -1.        ]\n",
      " [ 1.32399619  5.7196445  -1.        ]\n",
      " [ 6.06651722  4.12663592  1.        ]\n",
      " [ 2.76062082  7.65813068 -1.        ]\n",
      " [ 0.22740724  5.00687639 -1.        ]\n",
      " [ 7.48825219  3.62523145  1.        ]\n",
      " [ 4.76517418  2.34897441  1.        ]\n",
      " [ 3.78632796  4.87317419 -1.        ]\n",
      " [ 7.49407907  3.94725197  1.        ]\n",
      " [ 6.46278226  1.4552289   1.        ]\n",
      " [ 5.64044684  4.92953205  1.        ]\n",
      " [ 6.40234164  1.96575716  1.        ]\n",
      " [ 7.76405235  4.8831507   1.        ]\n",
      " [ 4.83485016  2.64600609  1.        ]\n",
      " [ 0.93001497  6.45093446 -1.        ]\n",
      " [ 3.61037938  6.6203583  -1.        ]\n",
      " [ 5.02272212  4.94362119  1.        ]\n",
      " [ 3.23218104  8.2567235  -1.        ]\n",
      " [ 4.46375631  0.77659685  1.        ]\n",
      " [ 7.23029068  3.57659082  1.        ]\n",
      " [ 2.68067158  5.31055082 -1.        ]\n",
      " [ 5.59682305  1.70714309  1.        ]\n",
      " [ 6.17742614  1.77456448  1.        ]\n",
      " [ 6.97663904  1.8319065   1.        ]\n",
      " [ 2.8640503   5.70816264 -1.        ]\n",
      " [ 3.42625873  5.3159891  -1.        ]\n",
      " [ 2.68911383  5.73226646 -1.        ]\n",
      " [ 5.11221425  2.32566734  1.        ]\n",
      " [ 6.01050002  3.77179055  1.        ]\n",
      " [ 6.70657317  2.82845367  1.        ]\n",
      " [ 2.5335809   5.26932225 -1.        ]\n",
      " [ 5.63725883  2.56217996  1.        ]\n",
      " [ 7.20237985  2.79170124  1.        ]\n",
      " [ 2.70220912  4.7859226  -1.        ]\n",
      " [ 4.95591231  6.84163126 -1.        ]\n",
      " [ 4.95144703  1.50874241  1.        ]\n",
      " [ 4.38610215  1.68409259  1.        ]\n",
      " [ 2.63081816  4.69347315 -1.        ]\n",
      " [ 4.21114529  4.52816499 -1.        ]\n",
      " [ 1.38304396  5.53928021 -1.        ]\n",
      " [ 6.20827498  2.96071718  1.        ]\n",
      " [ 6.12167502  4.91006495  1.        ]\n",
      " [ 7.05445173  4.5430146   1.        ]\n",
      " [ 6.3130677   3.61407937  1.        ]\n",
      " [ 2.044055    5.28039561 -1.        ]\n",
      " [ 1.53357567  6.34965446 -1.        ]\n",
      " [ 3.08842209  5.60515049 -1.        ]\n",
      " [ 6.77749036  4.11701629  1.        ]\n",
      " [ 3.49374178  6.64331447 -1.        ]\n",
      " [ 5.18685372  3.94942081  1.        ]\n",
      " [ 6.05616534  3.01747916  1.        ]\n",
      " [ 7.9507754   3.63503144  1.        ]\n",
      " [ 2.98297959  5.95782855 -1.        ]\n",
      " [ 1.93998418  4.38352581 -1.        ]\n",
      " [ 2.58995031  6.09435159 -1.        ]\n",
      " [ 6.4105985   4.48051479  1.        ]\n",
      " [ 1.61663604  5.522026   -1.        ]\n",
      " [ 5.12920285  2.19659034  1.        ]\n",
      " [ 6.97873798  1.729515    1.        ]\n",
      " [ 6.3869025   4.71334272  1.        ]\n",
      " [ 0.96931553  5.79309632 -1.        ]\n",
      " [ 4.53637705  4.97749316 -1.        ]\n",
      " [ 3.15650654  5.84233298 -1.        ]\n",
      " [ 7.89588918  1.39794234  1.        ]\n",
      " [ 2.05555374  5.61512019 -1.        ]\n",
      " [ 5.31518991  3.68159452  1.        ]\n",
      " [ 3.52389102  5.80934651 -1.        ]\n",
      " [ 4.0996596   5.88183595 -1.        ]\n",
      " [ 4.30184623  6.16422776 -1.        ]\n",
      " [ 3.06326199  5.68770775 -1.        ]\n",
      " [ 6.95008842  2.58638102  1.        ]\n",
      " [ 6.14404357  4.86755896  1.        ]\n",
      " [ 6.40015721  1.65224094  1.        ]\n",
      " [ 5.61267318  3.39600671  1.        ]\n",
      " [ 3.41605005  4.81611936 -1.        ]\n",
      " [ 3.37005589  6.85255194 -1.        ]\n",
      " [ 2.42421203  4.56220853 -1.        ]\n",
      " [ 4.01920353  3.03183056  1.        ]\n",
      " [ 5.25930895  5.9383736  -1.        ]\n",
      " [ 6.33367433  3.8024564   1.        ]\n",
      " [ 2.36256297  7.0685094  -1.        ]]\n"
     ]
    }
   ],
   "metadata": {
    "collapsed": false
   }
  },
  {
   "cell_type": "markdown",
   "source": [
    "**这就舒服多了**"
   ],
   "metadata": {
    "collapsed": false
   }
  },
  {
   "cell_type": "code",
   "execution_count": null,
   "source": [
    "print(all_data.shape)\r\n",
    "#截取出坐标数据\r\n",
    "train_data_x=all_data[:150,:2]\r\n",
    "#截取出标签数据\r\n",
    "train_data_y=all_data[:150,-1].reshape(150,1)\r\n",
    "\r\n",
    "print(train_data_x.shape)\r\n",
    "\r\n",
    "print(train_data_y.shape)"
   ],
   "outputs": [
    {
     "output_type": "stream",
     "name": "stdout",
     "text": [
      "(200, 3)\n",
      "(150, 2)\n",
      "(150, 1)\n"
     ]
    }
   ],
   "metadata": {
    "collapsed": false
   }
  },
  {
   "cell_type": "markdown",
   "source": [
    "千万不要弄混了哦，现在Y不是Y轴而是一个标签。x不是单一的x输入量而是一个坐标"
   ],
   "metadata": {
    "collapsed": false
   }
  },
  {
   "cell_type": "code",
   "execution_count": null,
   "source": [
    "#将数据转化为tensor形式\r\n",
    "x_data = paddle.to_tensor(train_data_x.astype('float32'))\r\n",
    "y_data = paddle.to_tensor(train_data_y.astype('float32'))"
   ],
   "outputs": [],
   "metadata": {
    "collapsed": false
   }
  },
  {
   "cell_type": "markdown",
   "source": [
    "我们要完成的公式是：\n",
    "\n",
    "$y=w1x1+w2x2+b$\n",
    "\n",
    "注意：w1 w2 B 是学出来的"
   ],
   "metadata": {
    "collapsed": false
   }
  },
  {
   "cell_type": "code",
   "execution_count": null,
   "source": [
    "#初始化一个感知“鸡”\r\n",
    "#这个感知“鸡”的公式可以去看一下官方文档哦\r\n",
    "\r\n",
    "linear = paddle.nn.Linear(in_features=2, out_features=1)\r\n",
    "#初始化一个优化函数帮助我们训练感知“鸡”\r\n",
    "mse_loss = paddle.nn.MSELoss()\r\n",
    "sgd_optimizer = paddle.optimizer.SGD(learning_rate=0.001, parameters = linear.parameters())"
   ],
   "outputs": [],
   "metadata": {
    "collapsed": false
   }
  },
  {
   "cell_type": "markdown",
   "source": [
    "# 开始训练！"
   ],
   "metadata": {
    "collapsed": false
   }
  },
  {
   "cell_type": "code",
   "execution_count": null,
   "source": [
    "# 定义一下要训练多少回合，这只鸡看起来就不太聪明咱们多训练一会\r\n",
    "total_epoch = 50000\r\n",
    "#构建训练过程\r\n",
    "for i in range(total_epoch):\r\n",
    "    #将数据给到定义好的linear感知“鸡”中，对就是要 赶 只 鸡\r\n",
    "    y_predict = linear(x_data)\r\n",
    "    #获取loss\r\n",
    "    loss = mse_loss(y_predict, y_data)\r\n",
    "    #反向传播\r\n",
    "    loss.backward()\r\n",
    "    sgd_optimizer.step()\r\n",
    "    sgd_optimizer.clear_grad()\r\n",
    "    #获取感知“鸡”中的w1\r\n",
    "    w1_after_opt = linear.weight.numpy()[0].item()\r\n",
    "    #获取感知“鸡”中的w2\r\n",
    "    w2_after_opt = linear.weight.numpy()[1].item()\r\n",
    "    #获取感知“鸡”中的b\r\n",
    "    b_after_opt = linear.bias.numpy().item()\r\n",
    "    #每1000次输出一次数据\r\n",
    "    if i%1000 == 0:\r\n",
    "        print(\"epoch {} loss {}\".format(i, loss.numpy()))\r\n",
    "        print(\"w1 after optimize: {}\".format(w1_after_opt))\r\n",
    "        print(\"w2 after optimize: {}\".format(w2_after_opt))\r\n",
    "        print(\"b after optimize: {}\".format(b_after_opt))\r\n",
    "print(\"finished training， loss {}\".format(loss.numpy()))"
   ],
   "outputs": [
    {
     "output_type": "stream",
     "name": "stdout",
     "text": [
      "epoch 0 loss [64.646065]\n",
      "w1 after optimize: 0.3556554615497589\n",
      "w2 after optimize: 1.2206629514694214\n",
      "b after optimize: -0.015229061245918274\n",
      "epoch 1000 loss [0.16097412]\n",
      "w1 after optimize: 0.3028927743434906\n",
      "w2 after optimize: -0.26204362511634827\n",
      "b after optimize: -0.18855762481689453\n",
      "epoch 2000 loss [0.16097398]\n",
      "w1 after optimize: 0.30295199155807495\n",
      "w2 after optimize: -0.2620217800140381\n",
      "b after optimize: -0.1889321208000183\n",
      "epoch 3000 loss [0.16097383]\n",
      "w1 after optimize: 0.3029892146587372\n",
      "w2 after optimize: -0.26198193430900574\n",
      "b after optimize: -0.18928521871566772\n",
      "epoch 4000 loss [0.16097373]\n",
      "w1 after optimize: 0.3030245900154114\n",
      "w2 after optimize: -0.26194408535957336\n",
      "b after optimize: -0.18962085247039795\n",
      "epoch 5000 loss [0.16097362]\n",
      "w1 after optimize: 0.3030581772327423\n",
      "w2 after optimize: -0.2619081139564514\n",
      "b after optimize: -0.18993957340717316\n",
      "epoch 6000 loss [0.16097353]\n",
      "w1 after optimize: 0.30309006571769714\n",
      "w2 after optimize: -0.2618740200996399\n",
      "b after optimize: -0.19024202227592468\n",
      "epoch 7000 loss [0.16097344]\n",
      "w1 after optimize: 0.30312028527259827\n",
      "w2 after optimize: -0.26184168457984924\n",
      "b after optimize: -0.19052889943122864\n",
      "epoch 8000 loss [0.16097337]\n",
      "w1 after optimize: 0.3031497895717621\n",
      "w2 after optimize: -0.26181134581565857\n",
      "b after optimize: -0.19080084562301636\n",
      "epoch 9000 loss [0.1609733]\n",
      "w1 after optimize: 0.3031772971153259\n",
      "w2 after optimize: -0.2617815434932709\n",
      "b after optimize: -0.1910632848739624\n",
      "epoch 10000 loss [0.16097324]\n",
      "w1 after optimize: 0.30320340394973755\n",
      "w2 after optimize: -0.2617526352405548\n",
      "b after optimize: -0.19131483137607574\n",
      "epoch 11000 loss [0.16097316]\n",
      "w1 after optimize: 0.3032285273075104\n",
      "w2 after optimize: -0.2617257535457611\n",
      "b after optimize: -0.1915532499551773\n",
      "epoch 12000 loss [0.1609731]\n",
      "w1 after optimize: 0.3032521903514862\n",
      "w2 after optimize: -0.26170042157173157\n",
      "b after optimize: -0.19177784025669098\n",
      "epoch 13000 loss [0.16097307]\n",
      "w1 after optimize: 0.3032747209072113\n",
      "w2 after optimize: -0.2616763114929199\n",
      "b after optimize: -0.19199156761169434\n",
      "epoch 14000 loss [0.16097303]\n",
      "w1 after optimize: 0.3032962381839752\n",
      "w2 after optimize: -0.26165327429771423\n",
      "b after optimize: -0.19219577312469482\n",
      "epoch 15000 loss [0.160973]\n",
      "w1 after optimize: 0.3033166527748108\n",
      "w2 after optimize: -0.26163142919540405\n",
      "b after optimize: -0.19238948822021484\n",
      "epoch 16000 loss [0.16097295]\n",
      "w1 after optimize: 0.3033357560634613\n",
      "w2 after optimize: -0.2616109848022461\n",
      "b after optimize: -0.19257085025310516\n",
      "epoch 17000 loss [0.16097294]\n",
      "w1 after optimize: 0.3033542335033417\n",
      "w2 after optimize: -0.26159119606018066\n",
      "b after optimize: -0.1927461475133896\n",
      "epoch 18000 loss [0.1609729]\n",
      "w1 after optimize: 0.30337151885032654\n",
      "w2 after optimize: -0.2615727186203003\n",
      "b after optimize: -0.1929100602865219\n",
      "epoch 19000 loss [0.1609729]\n",
      "w1 after optimize: 0.30338799953460693\n",
      "w2 after optimize: -0.2615550756454468\n",
      "b after optimize: -0.19306647777557373\n",
      "epoch 20000 loss [0.16097285]\n",
      "w1 after optimize: 0.30340370535850525\n",
      "w2 after optimize: -0.2615382671356201\n",
      "b after optimize: -0.1932154893875122\n",
      "epoch 21000 loss [0.16097283]\n",
      "w1 after optimize: 0.30341848731040955\n",
      "w2 after optimize: -0.26152247190475464\n",
      "b after optimize: -0.19335559010505676\n",
      "epoch 22000 loss [0.16097282]\n",
      "w1 after optimize: 0.3034325838088989\n",
      "w2 after optimize: -0.2615073323249817\n",
      "b after optimize: -0.1934897005558014\n",
      "epoch 23000 loss [0.16097282]\n",
      "w1 after optimize: 0.3034459948539734\n",
      "w2 after optimize: -0.2614929974079132\n",
      "b after optimize: -0.1936168521642685\n",
      "epoch 24000 loss [0.16097279]\n",
      "w1 after optimize: 0.303458571434021\n",
      "w2 after optimize: -0.26147955656051636\n",
      "b after optimize: -0.19373606145381927\n",
      "epoch 25000 loss [0.16097279]\n",
      "w1 after optimize: 0.3034709692001343\n",
      "w2 after optimize: -0.26146626472473145\n",
      "b after optimize: -0.1938539743423462\n",
      "epoch 26000 loss [0.16097274]\n",
      "w1 after optimize: 0.30348196625709534\n",
      "w2 after optimize: -0.2614544928073883\n",
      "b after optimize: -0.19395828247070312\n",
      "epoch 27000 loss [0.16097273]\n",
      "w1 after optimize: 0.3034929633140564\n",
      "w2 after optimize: -0.26144275069236755\n",
      "b after optimize: -0.19406259059906006\n",
      "epoch 28000 loss [0.16097274]\n",
      "w1 after optimize: 0.3035033941268921\n",
      "w2 after optimize: -0.26143157482147217\n",
      "b after optimize: -0.19416147470474243\n",
      "epoch 29000 loss [0.16097273]\n",
      "w1 after optimize: 0.3035128116607666\n",
      "w2 after optimize: -0.2614215016365051\n",
      "b after optimize: -0.19425088167190552\n",
      "epoch 30000 loss [0.16097273]\n",
      "w1 after optimize: 0.3035222291946411\n",
      "w2 after optimize: -0.2614113986492157\n",
      "b after optimize: -0.1943402886390686\n",
      "epoch 31000 loss [0.16097273]\n",
      "w1 after optimize: 0.30353137850761414\n",
      "w2 after optimize: -0.26140162348747253\n",
      "b after optimize: -0.194427028298378\n",
      "epoch 32000 loss [0.1609727]\n",
      "w1 after optimize: 0.3035392463207245\n",
      "w2 after optimize: -0.2613932192325592\n",
      "b after optimize: -0.19450153410434723\n",
      "epoch 33000 loss [0.1609727]\n",
      "w1 after optimize: 0.30354705452919006\n",
      "w2 after optimize: -0.2613848149776459\n",
      "b after optimize: -0.19457603991031647\n",
      "epoch 34000 loss [0.1609727]\n",
      "w1 after optimize: 0.3035549521446228\n",
      "w2 after optimize: -0.26137641072273254\n",
      "b after optimize: -0.1946505457162857\n",
      "epoch 35000 loss [0.1609727]\n",
      "w1 after optimize: 0.3035622239112854\n",
      "w2 after optimize: -0.26136863231658936\n",
      "b after optimize: -0.19471970200538635\n",
      "epoch 36000 loss [0.16097268]\n",
      "w1 after optimize: 0.3035685122013092\n",
      "w2 after optimize: -0.26136189699172974\n",
      "b after optimize: -0.19477930665016174\n",
      "epoch 37000 loss [0.16097268]\n",
      "w1 after optimize: 0.3035747706890106\n",
      "w2 after optimize: -0.2613551616668701\n",
      "b after optimize: -0.19483891129493713\n",
      "epoch 38000 loss [0.16097268]\n",
      "w1 after optimize: 0.3035810589790344\n",
      "w2 after optimize: -0.2613484561443329\n",
      "b after optimize: -0.19489851593971252\n",
      "epoch 39000 loss [0.16097268]\n",
      "w1 after optimize: 0.3035873472690582\n",
      "w2 after optimize: -0.26134172081947327\n",
      "b after optimize: -0.19495812058448792\n",
      "epoch 40000 loss [0.16097267]\n",
      "w1 after optimize: 0.3035926818847656\n",
      "w2 after optimize: -0.26133599877357483\n",
      "b after optimize: -0.1950087994337082\n",
      "epoch 41000 loss [0.16097265]\n",
      "w1 after optimize: 0.3035973906517029\n",
      "w2 after optimize: -0.2613309621810913\n",
      "b after optimize: -0.19505350291728973\n",
      "epoch 42000 loss [0.16097267]\n",
      "w1 after optimize: 0.30360209941864014\n",
      "w2 after optimize: -0.2613259255886078\n",
      "b after optimize: -0.19509820640087128\n",
      "epoch 43000 loss [0.16097265]\n",
      "w1 after optimize: 0.3036068081855774\n",
      "w2 after optimize: -0.26132088899612427\n",
      "b after optimize: -0.19514290988445282\n",
      "epoch 44000 loss [0.16097267]\n",
      "w1 after optimize: 0.30361151695251465\n",
      "w2 after optimize: -0.26131585240364075\n",
      "b after optimize: -0.19518761336803436\n",
      "epoch 45000 loss [0.16097265]\n",
      "w1 after optimize: 0.3036162555217743\n",
      "w2 after optimize: -0.26131078600883484\n",
      "b after optimize: -0.1952323168516159\n",
      "epoch 46000 loss [0.16097264]\n",
      "w1 after optimize: 0.3036206066608429\n",
      "w2 after optimize: -0.26130613684654236\n",
      "b after optimize: -0.19527362287044525\n",
      "epoch 47000 loss [0.16097265]\n",
      "w1 after optimize: 0.3036237359046936\n",
      "w2 after optimize: -0.26130276918411255\n",
      "b after optimize: -0.19530342519283295\n",
      "epoch 48000 loss [0.16097265]\n",
      "w1 after optimize: 0.3036268651485443\n",
      "w2 after optimize: -0.26129940152168274\n",
      "b after optimize: -0.19533322751522064\n",
      "epoch 49000 loss [0.16097265]\n",
      "w1 after optimize: 0.3036300241947174\n",
      "w2 after optimize: -0.26129603385925293\n",
      "b after optimize: -0.19536302983760834\n",
      "finished training， loss [0.16097265]\n"
     ]
    }
   ],
   "metadata": {
    "collapsed": false
   }
  },
  {
   "cell_type": "markdown",
   "source": [
    "# 卧槽！你看见了吗？那个w1和w2还有b2在动！我们真的训练了赶只鸡\n"
   ],
   "metadata": {
    "collapsed": false
   }
  },
  {
   "cell_type": "markdown",
   "source": [
    "# 行了练的差不多了，还记得核心任务吗？让那只鸡去画线！"
   ],
   "metadata": {
    "collapsed": false
   }
  },
  {
   "cell_type": "code",
   "execution_count": null,
   "source": [
    "plt.scatter(class1[:,0],class1[:,1])\r\n",
    "plt.scatter(class2[:,0],class2[:,1],marker='*')\r\n",
    "x=np.arange(10)\r\n",
    "#画线的公式\r\n",
    "y=-(w1_after_opt*x)/w2_after_opt+b_after_opt\r\n",
    "plt.plot(x,y)"
   ],
   "outputs": [
    {
     "output_type": "execute_result",
     "data": {
      "text/plain": [
       "[<matplotlib.lines.Line2D at 0x7faa4467ca90>]"
      ]
     },
     "metadata": {},
     "execution_count": null
    },
    {
     "output_type": "display_data",
     "data": {
      "image/png": "[encoded data removed]",
      "text/plain": [
       "<Figure size 432x288 with 1 Axes>"
      ]
     },
     "metadata": {}
    }
   ],
   "metadata": {
    "collapsed": false
   }
  }
 ],
 "metadata": {
  "kernelspec": {
   "display_name": "Python 3",
   "language": "python",
   "name": "py35-paddle1.2.0"
  },
  "language_info": {
   "codemirror_mode": {
    "name": "ipython",
    "version": 3
   },
   "file_extension": ".py",
   "mimetype": "text/x-python",
   "name": "python",
   "nbconvert_exporter": "python",
   "pygments_lexer": "ipython3",
   "version": "3.7.4"
  }
 },
 "nbformat": 4,
 "nbformat_minor": 1
}